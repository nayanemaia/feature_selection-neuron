{
  "nbformat": 4,
  "nbformat_minor": 0,
  "metadata": {
    "colab": {
      "name": "Artigo_Feature_selection.ipynb",
      "provenance": [],
      "collapsed_sections": [],
      "authorship_tag": "ABX9TyOQvANKr2rbV3IDajgdTlUz",
      "include_colab_link": true
    },
    "kernelspec": {
      "name": "python3",
      "display_name": "Python 3"
    },
    "language_info": {
      "name": "python"
    }
  },
  "cells": [
    {
      "cell_type": "markdown",
      "metadata": {
        "id": "view-in-github",
        "colab_type": "text"
      },
      "source": [
        "<a href=\"https://colab.research.google.com/github/nicholasrichers/feature_selection-neuron/blob/main/Artigo_Feature_selection.ipynb\" target=\"_parent\"><img src=\"https://colab.research.google.com/assets/colab-badge.svg\" alt=\"Open In Colab\"/></a>"
      ]
    },
    {
      "cell_type": "markdown",
      "metadata": {
        "id": "uLcrTCFGZFGA"
      },
      "source": [
        "# Artigo Seleção de Variáveis Neuron\n",
        "\n",
        "**Título: Comparando métodos de seleção de variáveis**\n",
        "\n",
        "*Subtítulo: Como selecionar quem irá selecionar?*\n",
        "\n",
        "\n",
        "![](https://images.unsplash.com/photo-1460058418905-d61a1b4a55fe?ixid=MnwxMjA3fDB8MHxwaG90by1wYWdlfHx8fGVufDB8fHx8&ixlib=rb-1.2.1&auto=format&fit=crop&w=1489&q=80)"
      ]
    },
    {
      "cell_type": "markdown",
      "metadata": {
        "id": "RLNcxyYQZPki"
      },
      "source": [
        "# Introdução\n",
        "\n",
        "Seleção de variáveis é uma etapa de pré-processamento encontrado em problemas de aprendizado supervisionado. As principais motivações em diminuir a dimensionalidade do conjunto de dados são diminuir o tempo de treinamento, melhorar a performance do modelo e ainda aprimorar a interpretabilidade destas variáveis.\n",
        "\n",
        "O objetivo deste artigo é apresentar algumas dessas técnicas (descritas no livro [Advances in Financial Machine Learning](https://www.amazon.com/Advances-Financial-Machine-Learning-Marcos/dp/1119482089)), apontar quais são suas limitações e oferecer ao leitor uma alternativa que permita comparar essas técnicas e outras que venha a utilizar.\n",
        "\n"
      ]
    },
    {
      "cell_type": "markdown",
      "metadata": {
        "id": "fQSXA0icT9O9"
      },
      "source": [
        "\n",
        "\n",
        "---\n",
        "\n",
        "\n",
        "\n",
        "---\n",
        "\n"
      ]
    },
    {
      "cell_type": "markdown",
      "metadata": {
        "id": "0cuktAXwT6QF"
      },
      "source": [
        "# Conjunto de dados\n",
        "\n",
        "Para facilitar o nosso estudo, vamos utilizar um conjunto de dados sintético que nos permita saber de antemão quais variáveis são informativas."
      ]
    },
    {
      "cell_type": "code",
      "metadata": {
        "id": "T1A9DVF7ZtbW"
      },
      "source": [
        "import numpy as np\n",
        "import pandas as pd\n",
        "from sklearn.datasets import make_classification\n",
        "\n",
        "\n",
        "def get_test_data(n_features=40, n_informative=10, n_redundant=10, n_samples=10000):\n",
        "\n",
        "    # generate a random dataset for a classification problem    \n",
        "    X, y = make_classification(n_samples=n_samples, \n",
        "                               n_features=n_features, \n",
        "                               n_informative=n_informative, \n",
        "                               n_redundant=n_redundant, \n",
        "                               random_state=0, \n",
        "                               shuffle=False)\n",
        "    \n",
        "\n",
        "\n",
        "    #renaming columns according to type (informative, redundant, noise)\n",
        "    cols = ['I_%s' % i for i in range(n_informative)] + ['R_%s' % i for i in range(n_redundant)]\n",
        "    cols += ['N_%s' % i for i in range(n_features - len(cols))]\n",
        "\n",
        "    #transform array into dataframe\n",
        "    X = pd.DataFrame(X, columns=cols)\n",
        "    y = pd.Series(y)\n",
        "    \n",
        "    return X, y"
      ],
      "execution_count": 1,
      "outputs": []
    },
    {
      "cell_type": "markdown",
      "metadata": {
        "id": "mR7yzv8PoBNa"
      },
      "source": [
        "> A partir da função `get_test_data()`, criaremos um problema de classificação binária com 40 variáveis, ao qual 10 são informativas, 10 são redundantes (i.e são combinações lineares das colunas informativas), e as 10 restantes são apenas ruído."
      ]
    },
    {
      "cell_type": "code",
      "metadata": {
        "id": "OPz5rZx_ZtNa"
      },
      "source": [
        "X, y = get_test_data()#n_features=12, n_informative=4, n_redundant=4, n_samples=5000)"
      ],
      "execution_count": 31,
      "outputs": []
    },
    {
      "cell_type": "markdown",
      "metadata": {
        "id": "SO37K-mfRtxW"
      },
      "source": [
        "> Segue abaixo um exemplo com 12 variáveis"
      ]
    },
    {
      "cell_type": "code",
      "metadata": {
        "colab": {
          "base_uri": "https://localhost:8080/",
          "height": 204
        },
        "id": "TxcuXm2wj1f1",
        "outputId": "e4dd75a3-e232-4289-ac21-59b20321aa38"
      },
      "source": [
        "X.head()"
      ],
      "execution_count": 30,
      "outputs": [
        {
          "output_type": "execute_result",
          "data": {
            "text/html": [
              "<div>\n",
              "<style scoped>\n",
              "    .dataframe tbody tr th:only-of-type {\n",
              "        vertical-align: middle;\n",
              "    }\n",
              "\n",
              "    .dataframe tbody tr th {\n",
              "        vertical-align: top;\n",
              "    }\n",
              "\n",
              "    .dataframe thead th {\n",
              "        text-align: right;\n",
              "    }\n",
              "</style>\n",
              "<table border=\"1\" class=\"dataframe\">\n",
              "  <thead>\n",
              "    <tr style=\"text-align: right;\">\n",
              "      <th></th>\n",
              "      <th>I_0</th>\n",
              "      <th>I_1</th>\n",
              "      <th>I_2</th>\n",
              "      <th>I_3</th>\n",
              "      <th>R_0</th>\n",
              "      <th>R_1</th>\n",
              "      <th>R_2</th>\n",
              "      <th>R_3</th>\n",
              "      <th>N_0</th>\n",
              "      <th>N_1</th>\n",
              "      <th>N_2</th>\n",
              "      <th>N_3</th>\n",
              "    </tr>\n",
              "  </thead>\n",
              "  <tbody>\n",
              "    <tr>\n",
              "      <th>0</th>\n",
              "      <td>-3.941539</td>\n",
              "      <td>-1.955124</td>\n",
              "      <td>-1.247683</td>\n",
              "      <td>-0.665536</td>\n",
              "      <td>2.870924</td>\n",
              "      <td>0.706670</td>\n",
              "      <td>-0.144982</td>\n",
              "      <td>-1.498281</td>\n",
              "      <td>-0.229430</td>\n",
              "      <td>0.177231</td>\n",
              "      <td>0.648948</td>\n",
              "      <td>-0.818646</td>\n",
              "    </tr>\n",
              "    <tr>\n",
              "      <th>1</th>\n",
              "      <td>-2.882175</td>\n",
              "      <td>-1.822702</td>\n",
              "      <td>-0.568862</td>\n",
              "      <td>0.103451</td>\n",
              "      <td>2.196651</td>\n",
              "      <td>0.966482</td>\n",
              "      <td>-0.527894</td>\n",
              "      <td>-1.100332</td>\n",
              "      <td>0.130209</td>\n",
              "      <td>-0.831310</td>\n",
              "      <td>1.484291</td>\n",
              "      <td>0.320911</td>\n",
              "    </tr>\n",
              "    <tr>\n",
              "      <th>2</th>\n",
              "      <td>-1.897824</td>\n",
              "      <td>-0.659752</td>\n",
              "      <td>-0.575968</td>\n",
              "      <td>1.432049</td>\n",
              "      <td>1.647345</td>\n",
              "      <td>0.800773</td>\n",
              "      <td>-0.995133</td>\n",
              "      <td>-1.899108</td>\n",
              "      <td>-1.667659</td>\n",
              "      <td>-0.005389</td>\n",
              "      <td>2.347850</td>\n",
              "      <td>0.202494</td>\n",
              "    </tr>\n",
              "    <tr>\n",
              "      <th>3</th>\n",
              "      <td>-2.574587</td>\n",
              "      <td>1.990887</td>\n",
              "      <td>0.383741</td>\n",
              "      <td>3.980372</td>\n",
              "      <td>3.637930</td>\n",
              "      <td>0.773705</td>\n",
              "      <td>-1.803899</td>\n",
              "      <td>-6.490407</td>\n",
              "      <td>0.105738</td>\n",
              "      <td>1.093880</td>\n",
              "      <td>-0.037027</td>\n",
              "      <td>-1.414238</td>\n",
              "    </tr>\n",
              "    <tr>\n",
              "      <th>4</th>\n",
              "      <td>-1.885823</td>\n",
              "      <td>-2.601728</td>\n",
              "      <td>-1.325420</td>\n",
              "      <td>-0.736274</td>\n",
              "      <td>0.621126</td>\n",
              "      <td>0.755418</td>\n",
              "      <td>-0.237697</td>\n",
              "      <td>1.156626</td>\n",
              "      <td>-1.178807</td>\n",
              "      <td>0.069023</td>\n",
              "      <td>0.454516</td>\n",
              "      <td>-0.522534</td>\n",
              "    </tr>\n",
              "  </tbody>\n",
              "</table>\n",
              "</div>"
            ],
            "text/plain": [
              "        I_0       I_1       I_2  ...       N_1       N_2       N_3\n",
              "0 -3.941539 -1.955124 -1.247683  ...  0.177231  0.648948 -0.818646\n",
              "1 -2.882175 -1.822702 -0.568862  ... -0.831310  1.484291  0.320911\n",
              "2 -1.897824 -0.659752 -0.575968  ... -0.005389  2.347850  0.202494\n",
              "3 -2.574587  1.990887  0.383741  ...  1.093880 -0.037027 -1.414238\n",
              "4 -1.885823 -2.601728 -1.325420  ...  0.069023  0.454516 -0.522534\n",
              "\n",
              "[5 rows x 12 columns]"
            ]
          },
          "metadata": {
            "tags": []
          },
          "execution_count": 30
        }
      ]
    },
    {
      "cell_type": "markdown",
      "metadata": {
        "id": "e1Ifut0to84_"
      },
      "source": [
        "> Dessa forma, independente do método utilizado, esperamos que ele seja capaz de distinguir as variáveis informativas (I) e redundantes (R), das que representam apenas ruído (N)."
      ]
    },
    {
      "cell_type": "markdown",
      "metadata": {
        "id": "5XOmB1eUT2O5"
      },
      "source": [
        "\n",
        "\n",
        "---\n",
        "\n",
        "\n",
        "\n",
        "---\n",
        "\n"
      ]
    },
    {
      "cell_type": "markdown",
      "metadata": {
        "id": "8FiCL3dMZuNY"
      },
      "source": [
        "# Mean Decrease Impurity (MDI)\n",
        "\n",
        "O MDI é um método escífico de modelos de árvore, como Random Forest, acessado nativamente através do `scikit-learn` pelo método `feature_importances_`.\n",
        "\n",
        "Em cada nó de cada árvore um **subconjunto de features é sorteada**, e aquela onde o `split` melhor dividir os dados, ou diminuir mais a impureza é selecionado. Logo podemos concluir que a variável mais vezes selecionada é a melhor.\n",
        "\n",
        "\n",
        "Esse método possui alguns problemas, uma vez que comumente uma variável de maior cardinalidade possui maior probabilidade de dividir melhor os dados. [Nesse link](https://scikit-learn.org/stable/auto_examples/inspection/plot_permutation_importance.html#sphx-glr-auto-examples-inspection-plot-permutation-importance-py), vemos um caso onde uma variável de números aleatórios (maior cardinalidade), possui maior `feature_importance`.\n",
        "\n",
        "A maneira abordada por [1], de resolver esse problema é através do parâmetro `max_features=1`, pois dessa forma apenas uma feature será pré selecionada, garantindo assim que todas sejam selecionadas igualmente.\n",
        "\n",
        "Outras limitações:\n",
        "\n",
        "* É um procedimento \"in-sample\" (IS), não havendo nenhuma garanita de que irá funcionar fora da amostra (out of sample, OOS)\n",
        "\n",
        "* Ele não resolve problemas relacionados a multicolineariedade. Duas variáveis idênticas, terão sua importância dividida pela metade, uma vez que são selecionadas aleatoriamente com igual probabilidade."
      ]
    },
    {
      "cell_type": "code",
      "metadata": {
        "id": "Mu_R6yW1Z3ry"
      },
      "source": [
        "def mean_decrease_impurity(model, feature_names):\n",
        "\n",
        "    # Feature importance based on in-sample (IS) mean impurity reduction\n",
        "    feature_imp_df = {i: tree.feature_importances_ for i, tree in enumerate(model.estimators_)}\n",
        "    feature_imp_df = pd.DataFrame.from_dict(feature_imp_df, orient='index')\n",
        "    feature_imp_df.columns = feature_names\n",
        "\n",
        "    # Make sure that features with zero importance are not averaged, since the only reason for a 0 is that the feature\n",
        "    # was not randomly chosen. Replace those values with np.nan\n",
        "    feature_imp_df = feature_imp_df.replace(0, np.nan)  # Because max_features = 1\n",
        "\n",
        "    importance = pd.concat({'mean': feature_imp_df.mean(),\n",
        "                            'std': feature_imp_df.std() * feature_imp_df.shape[0] ** -0.5}, axis=1)\n",
        "\n",
        "    importance /= importance['mean'].sum()\n",
        "    return importance"
      ],
      "execution_count": 4,
      "outputs": []
    },
    {
      "cell_type": "code",
      "metadata": {
        "id": "fPOZAmV3w5a-"
      },
      "source": [
        "\n",
        "import matplotlib\n",
        "import matplotlib.pyplot as plt\n",
        "\n",
        "%matplotlib inline\n",
        "plt.rcParams['figure.figsize'] = (16, 6)\n",
        "\n",
        "def plot_feature_importance(importance_df, oob_score, oos_score):\n",
        "\n",
        "    # Plot mean imp bars with std\n",
        "    plt.figure(figsize=(10, importance_df.shape[0] / 5))\n",
        "    importance_df.sort_values('mean', ascending=True, inplace=True)\n",
        "    importance_df['mean'].plot(kind='barh', color='b', alpha=0.25, xerr=importance_df['std'], error_kw={'ecolor': 'r'})\n",
        "    plt.title('Feature importance. OOB Score:{}; OOS score:{}'.format(round(oob_score, 4), round(oos_score, 4)))\n",
        "    plt.show()"
      ],
      "execution_count": 5,
      "outputs": []
    },
    {
      "cell_type": "code",
      "metadata": {
        "id": "g264ZoWIZ5U1"
      },
      "source": [
        "from sklearn.tree import DecisionTreeClassifier\n",
        "from sklearn.ensemble import RandomForestClassifier, BaggingClassifier\n",
        "from sklearn.model_selection import cross_val_score\n",
        "from sklearn.metrics import accuracy_score, make_scorer\n",
        "\n",
        "\n",
        "#setup accuracy as score metric\n",
        "scorer = make_scorer(accuracy_score)\n",
        "\n",
        "#fit classifier\n",
        "clf = RandomForestClassifier(max_features=1, oob_score=True)\n",
        "\n",
        "#Bagging with 100 Decision trees\n",
        "#clf_ = DecisionTreeClassifier()\n",
        "#clf = BaggingClassifier(base_estimator=clf_, n_estimators=100, max_features=1.0, max_samples=1.0, oob_score=True, n_jobs=-1)\n",
        "\n",
        "\n",
        "fit = clf.fit(X, y)\n",
        "\n",
        "#get importances dataframe\n",
        "mdi_importances = mean_decrease_impurity(fit, X.columns)"
      ],
      "execution_count": 6,
      "outputs": []
    },
    {
      "cell_type": "code",
      "metadata": {
        "id": "FmzDPEE-wver"
      },
      "source": [
        "#get oob & oos scores\n",
        "oob_score = fit.oob_score_\n",
        "oos_score = cross_val_score(clf, X, y, cv=3, scoring=scorer).mean()"
      ],
      "execution_count": 7,
      "outputs": []
    },
    {
      "cell_type": "markdown",
      "metadata": {
        "id": "_n8rMu4mbNAL"
      },
      "source": [
        "É fácil perceber que o MDI obteve bons resultados, uma vez que todas as variaveis com ruído (N), figuram nas últimas posições e com uma importância significativamente menor."
      ]
    },
    {
      "cell_type": "code",
      "metadata": {
        "colab": {
          "base_uri": "https://localhost:8080/",
          "height": 499
        },
        "id": "Ek_lm9fDu8bX",
        "outputId": "88629814-1294-4cfc-ed3f-b00fdef73b5d"
      },
      "source": [
        "plot_feature_importance(mdi_importances, oob_score=oob_score, oos_score=oos_score)"
      ],
      "execution_count": 8,
      "outputs": [
        {
          "output_type": "display_data",
          "data": {
            "image/png": "[encoded data removed]",
            "text/plain": [
              "<Figure size 720x576 with 1 Axes>"
            ]
          },
          "metadata": {
            "tags": [],
            "needs_background": "light"
          }
        }
      ]
    },
    {
      "cell_type": "markdown",
      "metadata": {
        "id": "ugVYEHUKUDGw"
      },
      "source": [
        "\n",
        "\n",
        "---\n",
        "\n",
        "\n",
        "\n",
        "---\n",
        "\n"
      ]
    },
    {
      "cell_type": "markdown",
      "metadata": {
        "id": "E2ca-TzSZ732"
      },
      "source": [
        "# Mean Decrease Accuracy (MDA)\n",
        "\n",
        "O MDA é um método significativamente mais lento que o anterior, porém é capaz de entregar a importância fora da amostra (OOS).\n",
        "\n",
        "Essa técnica não é limitada a modelos de árvore e consiste em treinar um classificador/regressor e obter sua performance OOS, de acordo com uma métrica a escolha (usei acurácia). Em seguida iremos permutar (embaralhar) uma variável por vez, treinando um novo modelo e comparando com a performance OOS do modelo original.\n",
        "\n",
        "\n",
        "Limitações:\n",
        "\n",
        "* Como o MDI esse procedimento está suscetível a presença de multicolineariedade (presente nas variáveis redundantes)\n",
        "\n",
        "* Dadas duas variáveis idênticas, o MDA irá considerar que ambas não são importantes, dada a característica do procedimento"
      ]
    },
    {
      "cell_type": "code",
      "metadata": {
        "id": "6ZnCxvqRZ9GL"
      },
      "source": [
        "from sklearn.metrics import log_loss\n",
        "def mean_decrease_accuracy(model, X, y, cv_gen, scoring, random_state=42):\n",
        "\n",
        "\n",
        "    fold_metrics_values, features_metrics_values = pd.Series(dtype='float64'), pd.DataFrame(columns=X.columns)\n",
        "\n",
        "    # Generating a numpy random state object for the given random_state\n",
        "    rs_obj = np.random.RandomState(seed=random_state)\n",
        "\n",
        "    #split data\n",
        "    for i, (train, test) in enumerate(cv_gen.split(X=X)):\n",
        "        fit = model.fit(X=X.iloc[train, :], y=y.iloc[train])\n",
        "        pred = fit.predict(X.iloc[test, :])\n",
        "\n",
        "        # Get overall metrics value on out-of-sample fold\n",
        "        if scoring == log_loss:\n",
        "            prob = fit.predict_proba(X.iloc[test, :])\n",
        "            fold_metrics_values.loc[i] = -scoring(y.iloc[test], prob, labels=model.classes_)\n",
        "        else:\n",
        "            fold_metrics_values.loc[i] = scoring(y.iloc[test], pred)\n",
        "\n",
        "        feature_sets = [[x] for x in X.columns]\n",
        "        # Get feature specific metric on out-of-sample fold\n",
        "        for j in feature_sets:\n",
        "            X1_ = X.iloc[test, :].copy(deep=True)\n",
        "            for j_i in j:\n",
        "                rs_obj.shuffle(X1_[j_i].values)  # Permutation of a single column for MDA \n",
        "\n",
        "            if scoring == log_loss:\n",
        "                prob = fit.predict_proba(X1_)\n",
        "                features_metrics_values.loc[i, j] = -scoring(y.iloc[test], prob, labels=model.classes_)\n",
        "            else:\n",
        "                pred = fit.predict(X1_)\n",
        "                features_metrics_values.loc[i, j] = scoring(y.iloc[test], pred)\n",
        "\n",
        "\n",
        "    importance = (-features_metrics_values).add(fold_metrics_values, axis=0)\n",
        "    if scoring == log_loss:\n",
        "        importance = importance / -features_metrics_values\n",
        "    else:\n",
        "        importance = importance / (1.0 - features_metrics_values).replace(0, np.nan)\n",
        "\n",
        "\n",
        "    importance = pd.concat({'mean': importance.mean(), 'std': importance.std() * importance.shape[0] ** -.5}, axis=1)\n",
        "    importance.replace([-np.inf, np.nan], 0, inplace=True)  # Replace infinite values\n",
        "\n",
        "    return importance"
      ],
      "execution_count": 9,
      "outputs": []
    },
    {
      "cell_type": "code",
      "metadata": {
        "id": "kqgHzg9gZ96j"
      },
      "source": [
        "from sklearn.model_selection import KFold\n",
        "cv_gen = KFold(n_splits = 3)\n",
        "mda_importances = mean_decrease_accuracy(clf, X, y, cv_gen, scoring=accuracy_score, random_state=42)"
      ],
      "execution_count": 10,
      "outputs": []
    },
    {
      "cell_type": "markdown",
      "metadata": {
        "id": "pkrcd69jfXOM"
      },
      "source": [
        "> Podemos ver que o MDA foi afetado pela presença de variáveis reduntantes, uma vez que algumas variáveis informativas (I) foram classificadas abaixo de variáveis com apenas ruído (N)."
      ]
    },
    {
      "cell_type": "code",
      "metadata": {
        "colab": {
          "base_uri": "https://localhost:8080/",
          "height": 499
        },
        "id": "55mNFsuiZ9va",
        "outputId": "9a9629f4-d7f7-4a9e-8886-e34029fe8ab2"
      },
      "source": [
        "plot_feature_importance(mda_importances, oob_score=oob_score, oos_score=oos_score)"
      ],
      "execution_count": 11,
      "outputs": [
        {
          "output_type": "display_data",
          "data": {
            "image/png": "[encoded data removed]",
            "text/plain": [
              "<Figure size 720x576 with 1 Axes>"
            ]
          },
          "metadata": {
            "tags": [],
            "needs_background": "light"
          }
        }
      ]
    },
    {
      "cell_type": "markdown",
      "metadata": {
        "id": "41bjhhnfceeZ"
      },
      "source": [
        "> O artigo [2], cita uma série de outras limitações relacionadas a permutação de variáveis, e sugere alguns métodos como o *Leave one out Covariate (LOCO)* [3]. Outros métodos como Boruta [4], tentam fazer uso das duas técnicas combinadas."
      ]
    },
    {
      "cell_type": "markdown",
      "metadata": {
        "id": "nYjhA4wZUFU7"
      },
      "source": [
        "\n",
        "\n",
        "---\n",
        "\n",
        "\n",
        "\n",
        "---\n",
        "\n"
      ]
    },
    {
      "cell_type": "markdown",
      "metadata": {
        "id": "pvB7GL50Z-yo"
      },
      "source": [
        "# Single Feature Importance (SFI)\n",
        "\n",
        "O método SFI leva em consideração apenas uma variável por vez, descartando os problems relacionados a multicolineariedade.\n",
        "\n",
        "Limitações:\n",
        "* Um modelo com duas variáveis pode funcionar melhor com duas variáveis do que juntando 2 modelos (bagging) com apenas uma."
      ]
    },
    {
      "cell_type": "code",
      "metadata": {
        "id": "1vqU1jpNaAaX"
      },
      "source": [
        "def single_feature_importance(clf, X, y, cv_gen, scoring=log_loss):\n",
        "\n",
        "\n",
        "    imp = pd.DataFrame(columns=['mean', 'std'])\n",
        "    for feat in X.columns:\n",
        "        feat_cross_val_scores = cross_val_score(clf, X=X[[feat]], y=y,scoring=scoring, cv=cv_gen)\n",
        "        imp.loc[feat, 'mean'] = feat_cross_val_scores.mean()\n",
        "\n",
        "        # pylint: disable=unsubscriptable-object\n",
        "        imp.loc[feat, 'std'] = feat_cross_val_scores.std() * feat_cross_val_scores.shape[0] ** -.5\n",
        "    return imp"
      ],
      "execution_count": 12,
      "outputs": []
    },
    {
      "cell_type": "code",
      "metadata": {
        "id": "3j9tWM2xaBWf"
      },
      "source": [
        "sfi_importances = single_feature_importance(clf, X, y, cv_gen, scoring=scorer)"
      ],
      "execution_count": 13,
      "outputs": []
    },
    {
      "cell_type": "markdown",
      "metadata": {
        "id": "MF63CRamgo0B"
      },
      "source": [
        "> O modelo com apenas uma feature não funcionou bem, além de haver muitas variáveis informativas do fundo do ranking, a diferença de performance entre elas é sempre bem próxima, além disso nenhuma variável sozinha atingiu 50% de acurácia, o mínimo esperado para um problema de classificação binária."
      ]
    },
    {
      "cell_type": "code",
      "metadata": {
        "colab": {
          "base_uri": "https://localhost:8080/",
          "height": 499
        },
        "id": "sXJnG6N9aBHy",
        "outputId": "280e7b44-5a4a-4d4f-950d-bb0924d8ec53"
      },
      "source": [
        "plot_feature_importance(sfi_importances, oob_score=oob_score, oos_score=oos_score)"
      ],
      "execution_count": 14,
      "outputs": [
        {
          "output_type": "display_data",
          "data": {
            "image/png": "[encoded data removed]",
            "text/plain": [
              "<Figure size 720x576 with 1 Axes>"
            ]
          },
          "metadata": {
            "tags": [],
            "needs_background": "light"
          }
        }
      ]
    },
    {
      "cell_type": "markdown",
      "metadata": {
        "id": "0Hrt9urRUHs8"
      },
      "source": [
        "\n",
        "\n",
        "---\n",
        "\n",
        "\n",
        "\n",
        "---\n",
        "\n"
      ]
    },
    {
      "cell_type": "markdown",
      "metadata": {
        "id": "jvUlgG_maB8W"
      },
      "source": [
        "# Orthogonalização\n",
        "\n",
        "Uma maneira de lidarmos parcialmente com os efeitos de subsitituição (multicolineariedade), é ortogonalizando as variáveis aplicando PCA. Essa transformação irá ajudar a aliviar os efeitos de substituição lineares. Atente-se ao fao de que é necessário normalizarmos as variáveis antes de aplicarmos o PCA, por duas razões. (1) Centralizando os dados podemos assegurar que a primeira componente principal (PCA_0) estará corretamente orientada na direção principal das amostras. (2) Ao normalizarmos os dados, o PCA buscará explicar correlações ao invés das variâncias, caso contrário as primenras componentes seriam dominadas pelas variáveis de maior variância."
      ]
    },
    {
      "cell_type": "code",
      "metadata": {
        "id": "beqWN_5_aGM3"
      },
      "source": [
        "from scipy.stats import weightedtau, kendalltau, spearmanr, pearsonr\n",
        "\n",
        "\n",
        "def _get_eigen_vector(dot_matrix, variance_thresh, num_features=None):\n",
        "    \"\"\"\n",
        "    Advances in Financial Machine Learning, Snippet 8.5, page 119.\n",
        "\n",
        "    Computation of Orthogonal Features\n",
        "\n",
        "    Gets eigen values and eigen vector from matrix which explain % variance_thresh of total variance.\n",
        "\n",
        "    :param dot_matrix: (np.array): Matrix for which eigen values/vectors should be computed.\n",
        "    :param variance_thresh: (float): Percentage % of overall variance which compressed vectors should explain.\n",
        "    :param num_features: (int) Manually set number of features, overrides variance_thresh. (None by default)\n",
        "    :return: (pd.Series, pd.DataFrame): Eigenvalues, Eigenvectors.\n",
        "    \"\"\"\n",
        "    # Compute eigen_vec from dot prod matrix, reduce dimension\n",
        "    eigen_val, eigen_vec = np.linalg.eigh(dot_matrix)\n",
        "    idx = eigen_val.argsort()[::-1]  # Arguments for sorting eigen_val desc\n",
        "    eigen_val, eigen_vec = eigen_val[idx], eigen_vec[:, idx]\n",
        "\n",
        "    # 2) Only positive eigen_vals\n",
        "    eigen_val = pd.Series(eigen_val, index=['PC_' + str(i + 1) for i in range(eigen_val.shape[0])])\n",
        "    eigen_vec = pd.DataFrame(eigen_vec, index=dot_matrix.index, columns=eigen_val.index)\n",
        "    eigen_vec = eigen_vec.loc[:, eigen_val.index]\n",
        "\n",
        "    # 3) Reduce dimension, form PCs\n",
        "    cum_var = eigen_val.cumsum() / eigen_val.sum()\n",
        "    if num_features is not None: # Either a preset number of features\n",
        "        dim = num_features - 1\n",
        "    else: # Or defined by variance level\n",
        "        dim = cum_var.values.searchsorted(variance_thresh)\n",
        "    eigen_val, eigen_vec = eigen_val.iloc[:dim + 1], eigen_vec.iloc[:, :dim + 1]\n",
        "    return eigen_val, eigen_vec\n",
        "\n",
        "\n",
        "def _standardize_df(data_frame):\n",
        "    \"\"\"\n",
        "    Helper function which divides df by std and extracts mean.\n",
        "\n",
        "    :param data_frame: (pd.DataFrame): Dataframe to standardize\n",
        "    :return: (pd.DataFrame): Standardized dataframe\n",
        "    \"\"\"\n",
        "    return data_frame.sub(data_frame.mean(), axis=1).div(data_frame.std(), axis=1)\n",
        "\n",
        "\n",
        "def get_orthogonal_features(feature_df, variance_thresh=.95, num_features=None):\n",
        "    \"\"\"\n",
        "    Advances in Financial Machine Learning, Snippet 8.5, page 119.\n",
        "\n",
        "    Computation of Orthogonal Features.\n",
        "\n",
        "    Gets PCA orthogonal features.\n",
        "\n",
        "    :param feature_df: (pd.DataFrame): Dataframe of features.\n",
        "    :param variance_thresh: (float): Percentage % of overall variance which compressed vectors should explain.\n",
        "    :param num_features: (int) Manually set number of features, overrides variance_thresh. (None by default)\n",
        "    :return: (pd.DataFrame): Compressed PCA features which explain %variance_thresh of variance.\n",
        "    \"\"\"\n",
        "    # Given a dataframe of features, compute orthogonal features\n",
        "    feature_df_standard = _standardize_df(feature_df)  # Standardize\n",
        "    dot_matrix = pd.DataFrame(np.dot(feature_df_standard.T, feature_df_standard), index=feature_df.columns,\n",
        "                              columns=feature_df.columns)\n",
        "    _, eigen_vec = _get_eigen_vector(dot_matrix, variance_thresh, num_features)\n",
        "    pca_features = np.dot(feature_df_standard, eigen_vec)\n",
        "    return pca_features"
      ],
      "execution_count": 32,
      "outputs": []
    },
    {
      "cell_type": "code",
      "metadata": {
        "id": "7a15CsORaHJO"
      },
      "source": [
        "Xdot = get_orthogonal_features(X, variance_thresh=.95, num_features=None)\n",
        "Xdot = pd.DataFrame(Xdot, columns=pca_columns)"
      ],
      "execution_count": 49,
      "outputs": []
    },
    {
      "cell_type": "code",
      "metadata": {
        "colab": {
          "base_uri": "https://localhost:8080/",
          "height": 224
        },
        "id": "qd7WgSAuGWd_",
        "outputId": "262f36ff-f6a1-4b24-a800-841db059b939"
      },
      "source": [
        "Xdot.head()"
      ],
      "execution_count": 50,
      "outputs": [
        {
          "output_type": "execute_result",
          "data": {
            "text/html": [
              "<div>\n",
              "<style scoped>\n",
              "    .dataframe tbody tr th:only-of-type {\n",
              "        vertical-align: middle;\n",
              "    }\n",
              "\n",
              "    .dataframe tbody tr th {\n",
              "        vertical-align: top;\n",
              "    }\n",
              "\n",
              "    .dataframe thead th {\n",
              "        text-align: right;\n",
              "    }\n",
              "</style>\n",
              "<table border=\"1\" class=\"dataframe\">\n",
              "  <thead>\n",
              "    <tr style=\"text-align: right;\">\n",
              "      <th></th>\n",
              "      <th>PCA_0</th>\n",
              "      <th>PCA_1</th>\n",
              "      <th>PCA_2</th>\n",
              "      <th>PCA_3</th>\n",
              "      <th>PCA_4</th>\n",
              "      <th>PCA_5</th>\n",
              "      <th>PCA_6</th>\n",
              "      <th>PCA_7</th>\n",
              "      <th>PCA_8</th>\n",
              "      <th>PCA_9</th>\n",
              "      <th>PCA_10</th>\n",
              "      <th>PCA_11</th>\n",
              "      <th>PCA_12</th>\n",
              "      <th>PCA_13</th>\n",
              "      <th>PCA_14</th>\n",
              "      <th>PCA_15</th>\n",
              "      <th>PCA_16</th>\n",
              "      <th>PCA_17</th>\n",
              "      <th>PCA_18</th>\n",
              "      <th>PCA_19</th>\n",
              "      <th>PCA_20</th>\n",
              "      <th>PCA_21</th>\n",
              "      <th>PCA_22</th>\n",
              "      <th>PCA_23</th>\n",
              "      <th>PCA_24</th>\n",
              "      <th>PCA_25</th>\n",
              "      <th>PCA_26</th>\n",
              "      <th>PCA_27</th>\n",
              "    </tr>\n",
              "  </thead>\n",
              "  <tbody>\n",
              "    <tr>\n",
              "      <th>0</th>\n",
              "      <td>-2.247346</td>\n",
              "      <td>3.289565</td>\n",
              "      <td>-1.367301</td>\n",
              "      <td>-2.863059</td>\n",
              "      <td>-1.412666</td>\n",
              "      <td>-0.799908</td>\n",
              "      <td>0.213012</td>\n",
              "      <td>0.331433</td>\n",
              "      <td>0.866300</td>\n",
              "      <td>0.032951</td>\n",
              "      <td>-2.996616</td>\n",
              "      <td>0.363532</td>\n",
              "      <td>-0.166937</td>\n",
              "      <td>1.426407</td>\n",
              "      <td>0.760479</td>\n",
              "      <td>0.869171</td>\n",
              "      <td>0.873983</td>\n",
              "      <td>-0.013344</td>\n",
              "      <td>1.944196</td>\n",
              "      <td>-0.481867</td>\n",
              "      <td>0.060209</td>\n",
              "      <td>-0.277116</td>\n",
              "      <td>-0.534618</td>\n",
              "      <td>0.986281</td>\n",
              "      <td>-0.384909</td>\n",
              "      <td>-0.801349</td>\n",
              "      <td>0.828607</td>\n",
              "      <td>1.121230</td>\n",
              "    </tr>\n",
              "    <tr>\n",
              "      <th>1</th>\n",
              "      <td>-0.956982</td>\n",
              "      <td>-0.370077</td>\n",
              "      <td>-0.070016</td>\n",
              "      <td>-3.012735</td>\n",
              "      <td>0.317126</td>\n",
              "      <td>0.332048</td>\n",
              "      <td>-0.771460</td>\n",
              "      <td>-0.385234</td>\n",
              "      <td>0.124513</td>\n",
              "      <td>0.067744</td>\n",
              "      <td>-0.801131</td>\n",
              "      <td>-0.600267</td>\n",
              "      <td>-0.506707</td>\n",
              "      <td>-0.083286</td>\n",
              "      <td>-0.262854</td>\n",
              "      <td>-0.628384</td>\n",
              "      <td>-1.401245</td>\n",
              "      <td>0.030920</td>\n",
              "      <td>-0.769808</td>\n",
              "      <td>-1.209847</td>\n",
              "      <td>-0.564018</td>\n",
              "      <td>-0.825132</td>\n",
              "      <td>0.753131</td>\n",
              "      <td>-0.379044</td>\n",
              "      <td>-0.456504</td>\n",
              "      <td>1.176804</td>\n",
              "      <td>-0.593204</td>\n",
              "      <td>-0.354478</td>\n",
              "    </tr>\n",
              "    <tr>\n",
              "      <th>2</th>\n",
              "      <td>-4.432080</td>\n",
              "      <td>2.690585</td>\n",
              "      <td>1.475541</td>\n",
              "      <td>-1.157080</td>\n",
              "      <td>0.586217</td>\n",
              "      <td>0.561810</td>\n",
              "      <td>0.509762</td>\n",
              "      <td>-1.904502</td>\n",
              "      <td>1.081916</td>\n",
              "      <td>1.208494</td>\n",
              "      <td>1.799926</td>\n",
              "      <td>-0.247350</td>\n",
              "      <td>0.928283</td>\n",
              "      <td>1.124757</td>\n",
              "      <td>0.190414</td>\n",
              "      <td>1.286317</td>\n",
              "      <td>-0.650261</td>\n",
              "      <td>-0.718204</td>\n",
              "      <td>-0.449401</td>\n",
              "      <td>0.567609</td>\n",
              "      <td>-0.040427</td>\n",
              "      <td>-0.911582</td>\n",
              "      <td>0.271040</td>\n",
              "      <td>-0.410972</td>\n",
              "      <td>2.323971</td>\n",
              "      <td>0.226183</td>\n",
              "      <td>2.398908</td>\n",
              "      <td>0.385578</td>\n",
              "    </tr>\n",
              "    <tr>\n",
              "      <th>3</th>\n",
              "      <td>2.366804</td>\n",
              "      <td>-1.419525</td>\n",
              "      <td>0.356341</td>\n",
              "      <td>0.679244</td>\n",
              "      <td>2.952952</td>\n",
              "      <td>0.414377</td>\n",
              "      <td>0.889363</td>\n",
              "      <td>2.163380</td>\n",
              "      <td>0.454700</td>\n",
              "      <td>1.256352</td>\n",
              "      <td>-1.194468</td>\n",
              "      <td>-0.094978</td>\n",
              "      <td>0.247717</td>\n",
              "      <td>0.064863</td>\n",
              "      <td>-0.822352</td>\n",
              "      <td>-0.320128</td>\n",
              "      <td>0.153822</td>\n",
              "      <td>2.213973</td>\n",
              "      <td>2.320637</td>\n",
              "      <td>0.228787</td>\n",
              "      <td>1.007314</td>\n",
              "      <td>-1.230794</td>\n",
              "      <td>0.694026</td>\n",
              "      <td>1.360371</td>\n",
              "      <td>-0.970620</td>\n",
              "      <td>1.304913</td>\n",
              "      <td>-1.543305</td>\n",
              "      <td>0.018166</td>\n",
              "    </tr>\n",
              "    <tr>\n",
              "      <th>4</th>\n",
              "      <td>1.104342</td>\n",
              "      <td>-0.693122</td>\n",
              "      <td>-0.555143</td>\n",
              "      <td>-1.283740</td>\n",
              "      <td>0.570558</td>\n",
              "      <td>-0.309020</td>\n",
              "      <td>-2.019225</td>\n",
              "      <td>-0.153222</td>\n",
              "      <td>0.867766</td>\n",
              "      <td>-0.339598</td>\n",
              "      <td>-0.647160</td>\n",
              "      <td>0.193531</td>\n",
              "      <td>-0.833451</td>\n",
              "      <td>1.318121</td>\n",
              "      <td>-0.257649</td>\n",
              "      <td>0.412327</td>\n",
              "      <td>0.815966</td>\n",
              "      <td>-1.099798</td>\n",
              "      <td>-2.428816</td>\n",
              "      <td>0.200491</td>\n",
              "      <td>-1.533220</td>\n",
              "      <td>-0.077449</td>\n",
              "      <td>1.194174</td>\n",
              "      <td>-0.406989</td>\n",
              "      <td>-1.561206</td>\n",
              "      <td>-0.957596</td>\n",
              "      <td>-0.192124</td>\n",
              "      <td>2.333219</td>\n",
              "    </tr>\n",
              "  </tbody>\n",
              "</table>\n",
              "</div>"
            ],
            "text/plain": [
              "      PCA_0     PCA_1     PCA_2  ...    PCA_25    PCA_26    PCA_27\n",
              "0 -2.247346  3.289565 -1.367301  ... -0.801349  0.828607  1.121230\n",
              "1 -0.956982 -0.370077 -0.070016  ...  1.176804 -0.593204 -0.354478\n",
              "2 -4.432080  2.690585  1.475541  ...  0.226183  2.398908  0.385578\n",
              "3  2.366804 -1.419525  0.356341  ...  1.304913 -1.543305  0.018166\n",
              "4  1.104342 -0.693122 -0.555143  ... -0.957596 -0.192124  2.333219\n",
              "\n",
              "[5 rows x 28 columns]"
            ]
          },
          "metadata": {
            "tags": []
          },
          "execution_count": 50
        }
      ]
    },
    {
      "cell_type": "markdown",
      "metadata": {
        "id": "V2NM-Gh5xirs"
      },
      "source": [
        "> MDI + PCA"
      ]
    },
    {
      "cell_type": "code",
      "metadata": {
        "id": "E-hxpXqGqc0Y"
      },
      "source": [
        "fit_ = clf.fit(Xdot, y)\n",
        "mdi_dot_importances = mean_decrease_impurity(fit_, Xdot.columns)"
      ],
      "execution_count": 52,
      "outputs": []
    },
    {
      "cell_type": "code",
      "metadata": {
        "id": "3qxKPja8sea4"
      },
      "source": [
        "#get oob & oos scores\n",
        "oob_score_pca = fit_.oob_score_\n",
        "oos_score_pca = cross_val_score(clf, Xdot, y, cv=3, scoring=scorer).mean()"
      ],
      "execution_count": 53,
      "outputs": []
    },
    {
      "cell_type": "code",
      "metadata": {
        "colab": {
          "base_uri": "https://localhost:8080/",
          "height": 368
        },
        "id": "VugpjphdrtiQ",
        "outputId": "38b5ab03-ffa3-4ea0-8d93-a67cba3f2d54"
      },
      "source": [
        "plot_feature_importance(mdi_dot_importances, oob_score=oob_score_pca, oos_score=oos_score_pca)"
      ],
      "execution_count": 54,
      "outputs": [
        {
          "output_type": "display_data",
          "data": {
            "image/png": "[encoded data removed]",
            "text/plain": [
              "<Figure size 720x403.2 with 1 Axes>"
            ]
          },
          "metadata": {
            "tags": [],
            "needs_background": "light"
          }
        }
      ]
    },
    {
      "cell_type": "markdown",
      "metadata": {
        "id": "a9EsSuw7xlZk"
      },
      "source": [
        "> MDA + PCA"
      ]
    },
    {
      "cell_type": "code",
      "metadata": {
        "id": "iOCm8ZSnqJzQ"
      },
      "source": [
        "mda_dot_importances = mean_decrease_accuracy(clf, Xdot, y, cv_gen, scoring=accuracy_score, random_state=42)"
      ],
      "execution_count": 55,
      "outputs": []
    },
    {
      "cell_type": "code",
      "metadata": {
        "colab": {
          "base_uri": "https://localhost:8080/",
          "height": 368
        },
        "id": "vtl4KFEKq3UR",
        "outputId": "8183296d-556c-4d1c-963b-9cbd3ac03ece"
      },
      "source": [
        "plot_feature_importance(mda_dot_importances, oob_score=oob_score_pca, oos_score=oos_score_pca)"
      ],
      "execution_count": 56,
      "outputs": [
        {
          "output_type": "display_data",
          "data": {
            "image/png": "[encoded data removed]",
            "text/plain": [
              "<Figure size 720x403.2 with 1 Axes>"
            ]
          },
          "metadata": {
            "tags": [],
            "needs_background": "light"
          }
        }
      ]
    },
    {
      "cell_type": "markdown",
      "metadata": {
        "id": "v-n2SdbIxnLq"
      },
      "source": [
        "> SFI + PCA"
      ]
    },
    {
      "cell_type": "code",
      "metadata": {
        "id": "rH0ce_Ftt_sl"
      },
      "source": [
        "sfi_dot_importances = single_feature_importance(clf, Xdot, y, cv_gen, scoring=scorer)"
      ],
      "execution_count": 58,
      "outputs": []
    },
    {
      "cell_type": "code",
      "metadata": {
        "colab": {
          "base_uri": "https://localhost:8080/",
          "height": 368
        },
        "id": "M4_CvMnDt_W3",
        "outputId": "60e30c9f-3bf5-4dcc-cf6a-959da4b3222b"
      },
      "source": [
        "plot_feature_importance(sfi_dot_importances, oob_score=oob_score_pca, oos_score=oos_score_pca)"
      ],
      "execution_count": 59,
      "outputs": [
        {
          "output_type": "display_data",
          "data": {
            "image/png": "[encoded data removed]",
            "text/plain": [
              "<Figure size 720x403.2 with 1 Axes>"
            ]
          },
          "metadata": {
            "tags": [],
            "needs_background": "light"
          }
        }
      ]
    },
    {
      "cell_type": "markdown",
      "metadata": {
        "id": "K9YYnGMJULHW"
      },
      "source": [
        "\n",
        "\n",
        "---\n",
        "\n",
        "\n",
        "\n",
        "---\n",
        "\n"
      ]
    },
    {
      "cell_type": "markdown",
      "metadata": {
        "id": "nO0wlnDZaHws"
      },
      "source": [
        "# Comparando métodos\n",
        "\n",
        "Devemos sempre ser céticos sobre as variáveis supostamente importantes identificada por qualquer método. Agora lembre-se que ao extrair as componentes principais, isso foi feito de maneira **não supervisionada**, ao contrário dos métodos citados ao longo do texto (supervisionados). \n",
        "\n",
        "Quando algum metodo supervisionado (MDI, MDA, SFI...), seleciona as mesmas variáveis que o PCA determinou como as principais de maneira não supervisionada, temos uma evidência que o padrão encontrado pelo método supervisionado não é overfitting."
      ]
    },
    {
      "cell_type": "code",
      "metadata": {
        "id": "dKW6W_fccGjN"
      },
      "source": [
        "\n",
        "def feature_pca_analysis(feature_df, feature_importance, variance_thresh=0.95):\n",
        "    \"\"\"\n",
        "    Performs correlation analysis between feature importance (MDI for example, supervised) and PCA eigenvalues\n",
        "    (unsupervised).\n",
        "\n",
        "    High correlation means that probably the pattern identified by the ML algorithm is not entirely overfit.\n",
        "\n",
        "    :param feature_df: (pd.DataFrame): Features dataframe.\n",
        "    :param feature_importance: (pd.DataFrame): Individual MDI feature importance.\n",
        "    :param variance_thresh: (float): Percentage % of overall variance which compressed vectors should explain in PCA compression.\n",
        "    :return: (dict): Dictionary with kendall, spearman, pearson and weighted_kendall correlations and p_values.\n",
        "    \"\"\"\n",
        "    feature_df_standard = _standardize_df(feature_df)  # Standardize\n",
        "    dot = pd.DataFrame(np.dot(feature_df_standard.T, feature_df_standard), index=feature_df.columns,\n",
        "                       columns=feature_df.columns)\n",
        "    eigen_val, eigen_vec = _get_eigen_vector(dot, variance_thresh)\n",
        "\n",
        "    corr_dict = {}  # Dictionary containing correlation metrics\n",
        "\n",
        "\n",
        "    # Get Rank based weighted Tau correlation\n",
        "    # Sum of absolute values across all eigen vectors\n",
        "    feature_pca_rank = (eigen_val * eigen_vec).abs().sum(axis=1).rank(ascending=False)  \n",
        "    corr_dict['Weighted_Kendall_Rank'] = weightedtau(feature_importance['mean'].values, feature_pca_rank.values **-1.0)\n",
        "    return corr_dict\n"
      ],
      "execution_count": 25,
      "outputs": []
    },
    {
      "cell_type": "markdown",
      "metadata": {
        "id": "kUeoCr4n0qdG"
      },
      "source": [
        "> Faremos essa comparação analisando a correlação das importâncias obtidas pelos método supervisionados com o ranking da projeção das importâncias obtidas pelos PCA. Esse ranking é obtido pela soma do módulo da multiplicação entre os autovalores e autovetores, que pode ser entendido com a soma das distâncias de cada componente na variável original.\n",
        "\n",
        "```\n",
        "feature_pca_rank = (eigen_val * eigen_vec).abs().sum(axis=1).rank(ascending=False)\n",
        "```\n",
        "\n"
      ]
    },
    {
      "cell_type": "code",
      "metadata": {
        "colab": {
          "base_uri": "https://localhost:8080/",
          "height": 224
        },
        "id": "PExfC_Lc1sf0",
        "outputId": "e598b19e-9828-4c5b-be98-64f6929e845f"
      },
      "source": [
        "feature_df_standard = _standardize_df(X)  # Standardize\n",
        "dot = pd.DataFrame(np.dot(feature_df_standard.T, feature_df_standard), index=X.columns, columns=X.columns)\n",
        "eigen_val, eigen_vec = _get_eigen_vector(dot, 0.95)\n",
        "\n",
        "(eigen_val * eigen_vec).head()#.sum(axis=1)"
      ],
      "execution_count": 70,
      "outputs": [
        {
          "output_type": "execute_result",
          "data": {
            "text/html": [
              "<div>\n",
              "<style scoped>\n",
              "    .dataframe tbody tr th:only-of-type {\n",
              "        vertical-align: middle;\n",
              "    }\n",
              "\n",
              "    .dataframe tbody tr th {\n",
              "        vertical-align: top;\n",
              "    }\n",
              "\n",
              "    .dataframe thead th {\n",
              "        text-align: right;\n",
              "    }\n",
              "</style>\n",
              "<table border=\"1\" class=\"dataframe\">\n",
              "  <thead>\n",
              "    <tr style=\"text-align: right;\">\n",
              "      <th></th>\n",
              "      <th>PC_1</th>\n",
              "      <th>PC_2</th>\n",
              "      <th>PC_3</th>\n",
              "      <th>PC_4</th>\n",
              "      <th>PC_5</th>\n",
              "      <th>PC_6</th>\n",
              "      <th>PC_7</th>\n",
              "      <th>PC_8</th>\n",
              "      <th>PC_9</th>\n",
              "      <th>PC_10</th>\n",
              "      <th>PC_11</th>\n",
              "      <th>PC_12</th>\n",
              "      <th>PC_13</th>\n",
              "      <th>PC_14</th>\n",
              "      <th>PC_15</th>\n",
              "      <th>PC_16</th>\n",
              "      <th>PC_17</th>\n",
              "      <th>PC_18</th>\n",
              "      <th>PC_19</th>\n",
              "      <th>PC_20</th>\n",
              "      <th>PC_21</th>\n",
              "      <th>PC_22</th>\n",
              "      <th>PC_23</th>\n",
              "      <th>PC_24</th>\n",
              "      <th>PC_25</th>\n",
              "      <th>PC_26</th>\n",
              "      <th>PC_27</th>\n",
              "      <th>PC_28</th>\n",
              "    </tr>\n",
              "  </thead>\n",
              "  <tbody>\n",
              "    <tr>\n",
              "      <th>I_0</th>\n",
              "      <td>-18388.176025</td>\n",
              "      <td>449.610124</td>\n",
              "      <td>479.606375</td>\n",
              "      <td>270.356165</td>\n",
              "      <td>-1.937312</td>\n",
              "      <td>571.387564</td>\n",
              "      <td>-360.157969</td>\n",
              "      <td>37.782163</td>\n",
              "      <td>-294.154812</td>\n",
              "      <td>-109.978836</td>\n",
              "      <td>319.990490</td>\n",
              "      <td>54.423374</td>\n",
              "      <td>255.775186</td>\n",
              "      <td>-404.947123</td>\n",
              "      <td>-233.484076</td>\n",
              "      <td>-433.199931</td>\n",
              "      <td>52.625498</td>\n",
              "      <td>175.865606</td>\n",
              "      <td>206.529800</td>\n",
              "      <td>35.758383</td>\n",
              "      <td>302.865319</td>\n",
              "      <td>-540.630731</td>\n",
              "      <td>152.811841</td>\n",
              "      <td>114.002252</td>\n",
              "      <td>187.459057</td>\n",
              "      <td>-663.865206</td>\n",
              "      <td>1348.037980</td>\n",
              "      <td>65.845559</td>\n",
              "    </tr>\n",
              "    <tr>\n",
              "      <th>I_1</th>\n",
              "      <td>-8132.997212</td>\n",
              "      <td>-8996.454079</td>\n",
              "      <td>-5157.428088</td>\n",
              "      <td>1113.702333</td>\n",
              "      <td>-5995.252549</td>\n",
              "      <td>-6690.225442</td>\n",
              "      <td>6.391452</td>\n",
              "      <td>-90.113353</td>\n",
              "      <td>-207.544334</td>\n",
              "      <td>-70.152977</td>\n",
              "      <td>-252.046721</td>\n",
              "      <td>91.866701</td>\n",
              "      <td>-162.919365</td>\n",
              "      <td>110.858921</td>\n",
              "      <td>-25.830667</td>\n",
              "      <td>-126.691456</td>\n",
              "      <td>195.875961</td>\n",
              "      <td>84.538247</td>\n",
              "      <td>-69.931892</td>\n",
              "      <td>-100.661310</td>\n",
              "      <td>74.432886</td>\n",
              "      <td>77.552046</td>\n",
              "      <td>85.926252</td>\n",
              "      <td>375.550519</td>\n",
              "      <td>120.126514</td>\n",
              "      <td>379.024940</td>\n",
              "      <td>-562.445099</td>\n",
              "      <td>1593.445102</td>\n",
              "    </tr>\n",
              "    <tr>\n",
              "      <th>I_2</th>\n",
              "      <td>8021.056805</td>\n",
              "      <td>-9211.572807</td>\n",
              "      <td>-7877.063469</td>\n",
              "      <td>-6626.313654</td>\n",
              "      <td>3402.157041</td>\n",
              "      <td>-970.321572</td>\n",
              "      <td>-199.394763</td>\n",
              "      <td>-252.124773</td>\n",
              "      <td>-383.677523</td>\n",
              "      <td>-63.764676</td>\n",
              "      <td>71.819647</td>\n",
              "      <td>-64.285518</td>\n",
              "      <td>170.168708</td>\n",
              "      <td>101.195037</td>\n",
              "      <td>80.976102</td>\n",
              "      <td>-105.626216</td>\n",
              "      <td>188.136935</td>\n",
              "      <td>53.028909</td>\n",
              "      <td>-30.240639</td>\n",
              "      <td>422.817450</td>\n",
              "      <td>-127.413982</td>\n",
              "      <td>167.858968</td>\n",
              "      <td>-97.764647</td>\n",
              "      <td>233.516041</td>\n",
              "      <td>-214.707520</td>\n",
              "      <td>-60.041769</td>\n",
              "      <td>158.544463</td>\n",
              "      <td>-1163.152618</td>\n",
              "    </tr>\n",
              "    <tr>\n",
              "      <th>I_3</th>\n",
              "      <td>4599.587352</td>\n",
              "      <td>-10440.002492</td>\n",
              "      <td>6784.213879</td>\n",
              "      <td>4082.517120</td>\n",
              "      <td>2934.607704</td>\n",
              "      <td>-3071.626938</td>\n",
              "      <td>-65.868190</td>\n",
              "      <td>693.013353</td>\n",
              "      <td>-545.908676</td>\n",
              "      <td>-409.728204</td>\n",
              "      <td>727.454647</td>\n",
              "      <td>454.048303</td>\n",
              "      <td>580.693505</td>\n",
              "      <td>-667.120610</td>\n",
              "      <td>-368.143206</td>\n",
              "      <td>-444.466380</td>\n",
              "      <td>-609.254841</td>\n",
              "      <td>319.236337</td>\n",
              "      <td>416.597401</td>\n",
              "      <td>-409.024030</td>\n",
              "      <td>321.921316</td>\n",
              "      <td>-1648.319960</td>\n",
              "      <td>623.201507</td>\n",
              "      <td>31.434314</td>\n",
              "      <td>1218.645175</td>\n",
              "      <td>-1698.424969</td>\n",
              "      <td>3721.240840</td>\n",
              "      <td>-103.543432</td>\n",
              "    </tr>\n",
              "    <tr>\n",
              "      <th>I_4</th>\n",
              "      <td>-9012.567393</td>\n",
              "      <td>262.645147</td>\n",
              "      <td>1116.820214</td>\n",
              "      <td>-1857.330454</td>\n",
              "      <td>10592.508045</td>\n",
              "      <td>-1767.740357</td>\n",
              "      <td>214.102447</td>\n",
              "      <td>-372.715563</td>\n",
              "      <td>355.788327</td>\n",
              "      <td>166.137135</td>\n",
              "      <td>-513.497070</td>\n",
              "      <td>-167.948297</td>\n",
              "      <td>-613.364200</td>\n",
              "      <td>626.060140</td>\n",
              "      <td>283.837264</td>\n",
              "      <td>198.770454</td>\n",
              "      <td>745.323793</td>\n",
              "      <td>-237.478737</td>\n",
              "      <td>-365.783724</td>\n",
              "      <td>110.322663</td>\n",
              "      <td>-348.502002</td>\n",
              "      <td>1033.081003</td>\n",
              "      <td>-428.158085</td>\n",
              "      <td>-135.054298</td>\n",
              "      <td>-637.482323</td>\n",
              "      <td>1448.682409</td>\n",
              "      <td>-2627.653486</td>\n",
              "      <td>931.097545</td>\n",
              "    </tr>\n",
              "  </tbody>\n",
              "</table>\n",
              "</div>"
            ],
            "text/plain": [
              "             PC_1          PC_2  ...        PC_27        PC_28\n",
              "I_0 -18388.176025    449.610124  ...  1348.037980    65.845559\n",
              "I_1  -8132.997212  -8996.454079  ...  -562.445099  1593.445102\n",
              "I_2   8021.056805  -9211.572807  ...   158.544463 -1163.152618\n",
              "I_3   4599.587352 -10440.002492  ...  3721.240840  -103.543432\n",
              "I_4  -9012.567393    262.645147  ... -2627.653486   931.097545\n",
              "\n",
              "[5 rows x 28 columns]"
            ]
          },
          "metadata": {
            "tags": []
          },
          "execution_count": 70
        }
      ]
    },
    {
      "cell_type": "markdown",
      "metadata": {
        "id": "De9y2J3tnSLl"
      },
      "source": [
        "## Calculando a correlação\n",
        "\n",
        "\n",
        "A correlação de postos de [kendall](https://pt.wikipedia.org/wiki/Coeficiente_de_correla%C3%A7%C3%A3o_tau_de_Kendall) ($\\tau$), é similar a correlação de spearman ($\\rho$), a diferença está no calculo do coeficiente ($\\tau$), que leva em consideração o ranking relativo de cada par.\n",
        "\n",
        "![](https://wikimedia.org/api/rest_v1/media/math/render/svg/142addc9f83096097389a80932168f9f611b8eda)\n",
        "\n",
        "\n",
        "![](https://upload.wikimedia.org/wikipedia/commons/thumb/0/0e/Concordant_Points_Kendall_Correlation.svg/330px-Concordant_Points_Kendall_Correlation.svg.png)\n",
        "\n",
        "\n",
        "\n",
        "Nesse contexto, a vantagem de utilizarmos este coeficiente de correlação é a possiblidade de calcularmos o coeficiente ($\\tau$), de maneira ponderada, dando um peso para cada par avaliado, ou seja  as variáveis de maior importância possuem maior peso, assim não precisamos nos preocupar com a ordenação de variáveis de menor importância.\n",
        "\n",
        "$$\n",
        "Weight = \\frac{1}{(r+1)} + \\frac{1}{(s+1)}\n",
        "$$\n",
        "\n",
        "Onde $r$ e $s$, são os rankings relativos de cada variável. Felizmente o *Weighted Tau* é encontrado na biblioteca [scipy](https://docs.scipy.org/doc/scipy/reference/generated/scipy.stats.weightedtau.html)."
      ]
    },
    {
      "cell_type": "markdown",
      "metadata": {
        "id": "o7F26tq6-G9t"
      },
      "source": [
        "> Perceba que apesar do coeficiente ($\\tau$) não apresentar valores muito altos, apresentaram resultados próximos a intuição que obtivemos ao observamos a ordem relativa das variáveis informativas e ruidosas. A grande diferença é que em um dataset não sintético, nao teremos essa distinção de maneira clara."
      ]
    },
    {
      "cell_type": "code",
      "metadata": {
        "colab": {
          "base_uri": "https://localhost:8080/"
        },
        "id": "3UKQfrJycJWj",
        "outputId": "7433ff68-df01-489c-8832-a9ebb2d12fd3"
      },
      "source": [
        "feature_pca_analysis(X, mdi_importances.reindex(X.columns), variance_thresh=.99)"
      ],
      "execution_count": 26,
      "outputs": [
        {
          "output_type": "execute_result",
          "data": {
            "text/plain": [
              "{'Weighted_Kendall_Rank': WeightedTauResult(correlation=0.31191037058665727, pvalue=nan)}"
            ]
          },
          "metadata": {
            "tags": []
          },
          "execution_count": 26
        }
      ]
    },
    {
      "cell_type": "code",
      "metadata": {
        "colab": {
          "base_uri": "https://localhost:8080/"
        },
        "id": "L4QeBndkHRLm",
        "outputId": "f321143a-1cf6-4e51-f8f8-2d8d8776dfec"
      },
      "source": [
        "feature_pca_analysis(X, mda_importances.reindex(X.columns), variance_thresh=.99)"
      ],
      "execution_count": 27,
      "outputs": [
        {
          "output_type": "execute_result",
          "data": {
            "text/plain": [
              "{'Weighted_Kendall_Rank': WeightedTauResult(correlation=0.2965247735591309, pvalue=nan)}"
            ]
          },
          "metadata": {
            "tags": []
          },
          "execution_count": 27
        }
      ]
    },
    {
      "cell_type": "code",
      "metadata": {
        "colab": {
          "base_uri": "https://localhost:8080/"
        },
        "id": "pykMAbR-HQ3O",
        "outputId": "6055d598-7c62-42c5-92ba-9fc14610bc11"
      },
      "source": [
        "feature_pca_analysis(X, sfi_importances.reindex(X.columns), variance_thresh=.99)"
      ],
      "execution_count": 28,
      "outputs": [
        {
          "output_type": "execute_result",
          "data": {
            "text/plain": [
              "{'Weighted_Kendall_Rank': WeightedTauResult(correlation=-0.10441690103565301, pvalue=nan)}"
            ]
          },
          "metadata": {
            "tags": []
          },
          "execution_count": 28
        }
      ]
    },
    {
      "cell_type": "markdown",
      "metadata": {
        "id": "9KTZXP3vUNfy"
      },
      "source": [
        "\n",
        "\n",
        "---\n",
        "\n",
        "\n",
        "\n",
        "---\n",
        "\n"
      ]
    },
    {
      "cell_type": "markdown",
      "metadata": {
        "id": "nYBCBIDbTJCy"
      },
      "source": [
        "Referencias:\n",
        "\n",
        "\n",
        "[1] https://www.amazon.com/Advances-Financial-Machine-Learning-Marcos/dp/1119482089\n",
        "\n",
        "[2] https://arxiv.org/abs/1905.03151\n",
        "\n",
        "[3] https://compstat-lmu.github.io/iml_methods_limitations/pfi.html\n",
        "\n",
        "[4] https://towardsdatascience.com/boruta-explained-the-way-i-wish-someone-explained-it-to-me-4489d70e154a\n",
        "\n",
        "[5] https://medium.com/swlh/feature-selection-techniques-to-make-better-generalization-models-6a19dd6dc9b1\n",
        "\n",
        "\n",
        "Link para o notebook: https://github.com/nicholasrichers/feature_selection-neuron/blob/main/Artigo_Feature_selection.ipynb"
      ]
    },
    {
      "cell_type": "markdown",
      "metadata": {
        "id": "0S_RAQkU9-KH"
      },
      "source": [
        "> E aí, o que achou? Fique a vontade para entrar em contato nas minhas redes sociais [Twitter](https://twitter.com/NickRichers), [Linkedin](https://www.linkedin.com/in/nicholas-richers/)."
      ]
    }
  ]
}