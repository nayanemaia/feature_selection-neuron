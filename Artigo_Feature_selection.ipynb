{
  "nbformat": 4,
  "nbformat_minor": 0,
  "metadata": {
    "colab": {
      "name": "Artigo_Feature_selection.ipynb",
      "provenance": [],
      "authorship_tag": "ABX9TyPOxKmZA3YaQN44iVHZTr3b",
      "include_colab_link": true
    },
    "kernelspec": {
      "name": "python3",
      "display_name": "Python 3"
    },
    "language_info": {
      "name": "python"
    }
  },
  "cells": [
    {
      "cell_type": "markdown",
      "metadata": {
        "id": "view-in-github",
        "colab_type": "text"
      },
      "source": [
        "<a href=\"https://colab.research.google.com/github/nicholasrichers/feature_selection-neuron/blob/main/Artigo_Feature_selection.ipynb\" target=\"_parent\"><img src=\"https://colab.research.google.com/assets/colab-badge.svg\" alt=\"Open In Colab\"/></a>"
      ]
    },
    {
      "cell_type": "code",
      "metadata": {
        "id": "l9UcKGtEejOO"
      },
      "source": [
        "import numpy as np\n",
        "a = np.array([[1,2,2], [0,1,1], [3,2,1]])"
      ],
      "execution_count": 10,
      "outputs": []
    },
    {
      "cell_type": "code",
      "metadata": {
        "colab": {
          "base_uri": "https://localhost:8080/"
        },
        "id": "9Qo033pZX7y9",
        "outputId": "54911ee0-a431-4882-98ac-ee8f05889c18"
      },
      "source": [
        "a.dot(a.T)#*(1/14)"
      ],
      "execution_count": 15,
      "outputs": [
        {
          "output_type": "execute_result",
          "data": {
            "text/plain": [
              "array([[ 9,  4,  9],\n",
              "       [ 4,  2,  3],\n",
              "       [ 9,  3, 14]])"
            ]
          },
          "metadata": {
            "tags": []
          },
          "execution_count": 15
        }
      ]
    },
    {
      "cell_type": "code",
      "metadata": {
        "colab": {
          "base_uri": "https://localhost:8080/"
        },
        "id": "kmvACbOdYJTX",
        "outputId": "1a6f098f-af25-4322-8968-5c21d2c3128e"
      },
      "source": [
        "np.cov(a)"
      ],
      "execution_count": 12,
      "outputs": [
        {
          "output_type": "execute_result",
          "data": {
            "text/plain": [
              "array([[ 0.33333333,  0.33333333, -0.5       ],\n",
              "       [ 0.33333333,  0.33333333, -0.5       ],\n",
              "       [-0.5       , -0.5       ,  1.        ]])"
            ]
          },
          "metadata": {
            "tags": []
          },
          "execution_count": 12
        }
      ]
    },
    {
      "cell_type": "code",
      "metadata": {
        "id": "C8ap05xoYMYz"
      },
      "source": [
        ""
      ],
      "execution_count": null,
      "outputs": []
    }
  ]
}